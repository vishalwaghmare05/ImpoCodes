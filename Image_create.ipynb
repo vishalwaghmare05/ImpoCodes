{
 "cells": [
  {
   "cell_type": "markdown",
   "id": "d934b244",
   "metadata": {},
   "source": [
    "# This code use to generate the image \n",
    "### with the 3 characters in black color with red colour background\n",
    "1. first string contain \"A\",\"B\",\"C\",\"D\"\n",
    "2. Second string contain 2, 3 and 4\n",
    "3. third string conatain 0 to 9\n",
    "\n",
    "any image randomly can take values from this list and generate images \n",
    "like:  A 2 0  , B 2 8"
   ]
  },
  {
   "cell_type": "code",
   "execution_count": null,
   "id": "4d32ea41",
   "metadata": {},
   "outputs": [],
   "source": [
    "from PIL import Image , ImageDraw, ImageFont\n",
    "import random\n",
    "\n",
    "# Set the diamensions of the image\n",
    "width = 400\n",
    "height = 300\n",
    "\n",
    "for i in range(100):\n",
    "  img  = Image.new( mode = \"RGB\", size = (width, height), color = \"red\" )\n",
    "  draw = ImageDraw.Draw(img)\n",
    "  \n",
    "  # Set the font and size of the text\n",
    "  font = ImageFont.truetype(\"arial.ttf\", 100)\n",
    "\n",
    "  # generate random characters \n",
    "  first_char = random.choice(['A','B','C','D'])\n",
    "  second_char = str(random.randint(2,4))\n",
    "  third_Char = str(random.randint(0,9))\n",
    "  \n",
    "  #calculate the position to center the text\n",
    "  text_width , text_height, = draw.textsize(first_char + second_char + third_Char,font)\n",
    "  x = (width - text_width) // 2\n",
    "  y = (height - text_height) // 2\n",
    "\n",
    "  # Draw the text on the image\n",
    "  draw.text((x,y),first_char + second_char + third_Char , font = font , fill = \"black\")\n",
    "\n",
    "  #save the image \n",
    "  img.save(\"image\"+str(i)+\".png\")\n",
    "\n",
    "\n",
    "img.show()"
   ]
  }
 ],
 "metadata": {
  "kernelspec": {
   "display_name": "Python 3",
   "language": "python",
   "name": "python3"
  },
  "language_info": {
   "codemirror_mode": {
    "name": "ipython",
    "version": 3
   },
   "file_extension": ".py",
   "mimetype": "text/x-python",
   "name": "python",
   "nbconvert_exporter": "python",
   "pygments_lexer": "ipython3",
   "version": "3.8.8"
  }
 },
 "nbformat": 4,
 "nbformat_minor": 5
}
